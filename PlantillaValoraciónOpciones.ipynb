{
  "cells": [
    {
      "cell_type": "markdown",
      "metadata": {
        "id": "fE2qAdg1NKr7"
      },
      "source": [
        "# Valoración opciones aplicada\n",
        "\n",
        "Tome en consideración el modelo continuio de Black and Scholes:\n",
        "\n",
        "$$C(S,t)=S\\cdot\\Phi(d_1)-K\\exp(-R\\cdot t)\\cdot\\Phi(d_2)$$\n",
        "\n",
        "donde $d_1=\\frac{\\log\\frac{S}{K}+\\left(R+\\frac{\\sigma^2}{2}\\right)\\cdot t}{\\sqrt{\\sigma^2\\cdot t}}$ y $d_2=d_1-\\sqrt{\\sigma^2\\cdot t}$.\n",
        "\n",
        "Defina los parámetros asociados a valores del activo definido en la Tarea 1 y calcule el valor de una opción de compra."
      ]
    },
    {
      "cell_type": "markdown",
      "metadata": {
        "id": "xFllCJTDNauC"
      },
      "source": [
        "## Black-Scholes"
      ]
    },
    {
      "cell_type": "code",
      "execution_count": 2,
      "metadata": {
        "colab": {
          "base_uri": "https://localhost:8080/"
        },
        "id": "eEoBFS9ALm5j",
        "outputId": "40918c11-2bab-4478-e121-964e1885c0f0"
      },
      "outputs": [
        {
          "name": "stdout",
          "output_type": "stream",
          "text": [
            "Precio de la opción de compra call: 53.838783438310344\n",
            "Precio de la opción de compra put: 1.0704837295845274e-20\n"
          ]
        }
      ],
      "source": [
        "import math\n",
        "from scipy.stats import norm\n",
        "\n",
        "def black_scholes_call(S, K, T, r, sigma):\n",
        "    d1 = (math.log(S / K) + (r + 0.5 * sigma**2) * T) / (sigma * math.sqrt(T))\n",
        "    d2 = d1 - sigma * math.sqrt(T)\n",
        "    phi1 = norm.cdf(d1)\n",
        "    phi2 = norm.cdf(d2)\n",
        "    precio_call = S * phi1 - K * math.exp(-r * T) * phi2\n",
        "    return precio_call\n",
        "\n",
        "def black_scholes_put(S, K, T, r, sigma):\n",
        "    d1 = (math.log(S / K) + (r + (sigma ** 2) / 2) * T) / (sigma * math.sqrt(T))\n",
        "    d2 = d1 - sigma * math.sqrt(T)\n",
        "    precio_put = K * math.exp(-r * T) * norm.cdf(-d2) - S * norm.cdf(-d1)\n",
        "    return precio_put\n",
        "\n",
        "          # Parámetros de test\n",
        "          #K = 100\n",
        "          #r = 0.02\n",
        "          #sigma = 0.2\n",
        "          #T = 0.5\n",
        "          #S0 = 102\n",
        "          # Resultado esperado CALL\n",
        "          # 7.28815118277163\n",
        "\n",
        "#Parametros de ENELCHILE desde API bolsa de santiago\n",
        "K = 45\n",
        "r = 6.6\n",
        "sigma = 0.75\n",
        "T = 1\n",
        "S0 = 53.90\n",
        "\n",
        "precio = black_scholes_call(S0, K, T, r, sigma)\n",
        "print(f\"Precio de la opción de compra call: {precio}\")\n",
        "\n",
        "precio = black_scholes_put(S0, K, T, r, sigma)\n",
        "print(f\"Precio de la opción de compra put: {precio}\")"
      ]
    },
    {
      "cell_type": "markdown",
      "metadata": {
        "id": "4Pb1rldRNRnD"
      },
      "source": [
        "## Segundo Modelo de valoración\n",
        "\n",
        "Modelo Binomial\n",
        "\n",
        "El modelo binomial permite analizar el comportamiento de las acciones a lo largo del tiempo. Recibe su nombre de binomia\" debido a la suposición de que el precio de una acción en un momento t dado, puede evolucionar de dos maneras distintas. Puede subir en el momento t+1 y ser evaluado como Su, o puede bajar y ser evaluado como Sd. La probabilidad de que ocurra una subida es denotada por p, mientras que la probabilidad de una bajada se representa como (1-p).\n",
        "\n",
        "$ Precio_{t} = \\frac{{p \\cdot Precio_{t+1u} + (1-p) \\cdot Precio_{t+1d}}}{{R}} $\n",
        "\n",
        "Donde:\n",
        "- $( Precio_{t} $) es el valor del nodo en el tiempo t.\n",
        "- $( p $) es la probabilidad de subida.\n",
        "- $( Precio_{t+1u} $) es el valor del nodo en el tiempo t+1 en caso de una subida.\n",
        "- $( (1-p) $) es la probabilidad de bajada.\n",
        "- $( Precio_{t+1d} $) es el valor del nodo en el tiempo t+1 en caso de una bajada.\n",
        "- $( R $) es el factor de descuento.\n",
        "\n",
        "Cuando en el modelo binomial , los ensayos (n) tienden al infinito, bajo ciertas condiciones, es posible que el modelo binomial se transforme en el modelo de Black-Scholes en la valoracion de acciones financieras."
      ]
    },
    {
      "cell_type": "code",
      "execution_count": 3,
      "metadata": {
        "colab": {
          "base_uri": "https://localhost:8080/"
        },
        "id": "NryqfZ7yNUk3",
        "outputId": "bf2096ba-2f28-4e89-a197-c509bbb8934d"
      },
      "outputs": [
        {
          "name": "stdout",
          "output_type": "stream",
          "text": [
            "Precio de la opción de compra call: 53.83878343831542\n",
            "Precio de la opción de compra put: 1.9832379218846802e-21\n"
          ]
        }
      ],
      "source": [
        "def binomial(S, K, T, r, sigma, n, option_type=\"call\"):\n",
        "    dt = T / n\n",
        "    u = math.exp(sigma * math.sqrt(dt))\n",
        "    d = 1 / u\n",
        "    p = (math.exp(r * dt) - d) / (u - d)\n",
        "\n",
        "    precios = [[0.0 for i in range(n + 1)] for i in range(n + 1)]\n",
        "\n",
        "\n",
        "    for j in range(n + 1):     # Precio del activo subyacente en los ultimos nodos\n",
        "        precios[n][j] = S * (u ** (n - j)) * (d ** j)\n",
        "\n",
        "\n",
        "    for j in range(n + 1): # Valor de la opcion en el ultimo nodo\n",
        "        if option_type == \"call\":\n",
        "            precios[n][j] = max(0, precios[n][j] - K)\n",
        "        else:\n",
        "            precios[n][j] = max(0, K - precios[n][j]) ##Cuando el tipo de opcion es put\n",
        "\n",
        "\n",
        "    for i in range(n - 1, -1, -1):   # Valor de la opcion desde los ultimos nodos\n",
        "        for j in range(i + 1):\n",
        "            precios[i][j] = max(0, math.exp(-r * dt) * ((p * precios[i + 1][j]) + ((1 - p) * precios[i + 1][j + 1])))\n",
        "\n",
        "    return precios[0][0]\n",
        "\n",
        "n = 1000  # Número de pasos en el modelo binomial (No usar mas de 10000 porque google collab se cae)\n",
        "\n",
        "precio_call = binomial(S0, K, T, r, sigma, n, option_type=\"call\")\n",
        "precio_put = binomial(S0, K, T, r, sigma, n, option_type=\"put\")\n",
        "\n",
        "print(f\"Precio de la opción de compra call: {precio_call}\")\n",
        "print(f\"Precio de la opción de compra put: {precio_put}\")"
      ]
    },
    {
      "cell_type": "markdown",
      "metadata": {},
      "source": [
        "## Comparacion de ambos modelos\n",
        "\n",
        "Diferencias:\n",
        "El modelo Black-Scholes se trabaja de manera continua, mientras que el modelo Binomial trabaja en tiempo discreto. Esto significa que el Black-Scholes asume cambios continuos en los precios de los activos, mientras que el Binomial representa los movimientos de precios en pasos discretos a lo largo del tiempo. Además, el modelo Binomial requiere más tiempo de cálculo ya que se debe construir un árbol de precios y calcular todos los escenarios posibles en función de la cantidad de períodos de tiempo, a diferencia del método de Black-Scholes que es más directo. Además, el modelo Black-Scholes se basa en parámetros fijos, mientras que el modelo Binomial permite la variación de parámetros a medida que se analizan los diferentes periodos de tiempo.\n",
        "\n",
        "Similitudes:\n",
        "Ambos modelos, Black-Scholes y Binomial, son aceptados como herramientas para evaluar y predecir los precios de opciones. Ambos modelos trabajan con parámetros comunes relacionados con la opción, como el precio del activo subyacente, el precio de ejercicio, la volatilidad y el tiempo hasta el vencimiento. A pesar de sus diferencias en enfoque y complejidad, estos modelos se utilizan en el campo de las finanzas para comprender y valorar opciones, y comparten la misma base teórica de la teoría de opciones financieras."
      ]
    }
  ],
  "metadata": {
    "colab": {
      "provenance": []
    },
    "kernelspec": {
      "display_name": "Python 3",
      "name": "python3"
    },
    "language_info": {
      "codemirror_mode": {
        "name": "ipython",
        "version": 3
      },
      "file_extension": ".py",
      "mimetype": "text/x-python",
      "name": "python",
      "nbconvert_exporter": "python",
      "pygments_lexer": "ipython3",
      "version": "3.8.5"
    }
  },
  "nbformat": 4,
  "nbformat_minor": 0
}
